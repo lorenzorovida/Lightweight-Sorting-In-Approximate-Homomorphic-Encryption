{
 "cells": [
  {
   "cell_type": "markdown",
   "id": "d8ae07d8",
   "metadata": {},
   "source": [
    "\n",
    "## SIMD Bitonic Sorting Network\n",
    "\n",
    "This notebook presents the algorithm that evaluates a Bitonic Sorting Network using the _max_ function and SIMD computations. This approach allows to easily write the same algorithm using the CKKS primitives."
   ]
  },
  {
   "cell_type": "markdown",
   "id": "c71bdaa7",
   "metadata": {},
   "source": [
    "### Importing libraries\n",
    "\n",
    "The *numpy* library will be useful as it will help us simulate SIMD computations. We also use *math* to compute logarithms and *matplotlib* to plot some numbers"
   ]
  },
  {
   "cell_type": "code",
   "execution_count": 1,
   "id": "6c961b66",
   "metadata": {},
   "outputs": [],
   "source": [
    "import numpy as np\n",
    "import math\n",
    "import matplotlib.pyplot as plt\n",
    "import statistics"
   ]
  },
  {
   "cell_type": "markdown",
   "id": "7b5e2e28",
   "metadata": {},
   "source": [
    "Defining a class to handle Chebyshev approximations"
   ]
  },
  {
   "cell_type": "code",
   "execution_count": 2,
   "id": "79473465",
   "metadata": {},
   "outputs": [],
   "source": [
    "class Chebyshev:\n",
    "    \"\"\"\n",
    "    Chebyshev(a, b, n, func)\n",
    "    Given a function func, lower and upper limits of the interval [a,b],\n",
    "    and maximum degree n, this class computes a Chebyshev approximation\n",
    "    of the function.\n",
    "    Method eval(x) yields the approximated function value.\n",
    "    \"\"\"\n",
    "    def __init__(self, a, b, n, func):\n",
    "        self.a = a\n",
    "        self.b = b\n",
    "        self.func = func\n",
    "\n",
    "        bma = 0.5 * (b - a)\n",
    "        bpa = 0.5 * (b + a)\n",
    "        f = [func(math.cos(math.pi * (k + 0.5) / n) * bma + bpa) for k in range(n)]\n",
    "        fac = 2.0 / n\n",
    "        self.c = [fac * sum([f[k] * math.cos(math.pi * j * (k + 0.5) / n)\n",
    "                  for k in range(n)]) for j in range(n)]\n",
    "\n",
    "    def eval(self, x):\n",
    "        a,b = self.a, self.b\n",
    "        #assert(a <= x <= b)\n",
    "        y = (2.0 * x - a - b) * (1.0 / (b - a))\n",
    "        y2 = 2.0 * y\n",
    "        (d, dd) = (self.c[-1], 0)             # Special case first step for efficiency\n",
    "        for cj in self.c[-2:0:-1]:            # Clenshaw's recurrence\n",
    "            (d, dd) = (y2 * d - dd + cj, d)\n",
    "        return y * d - dd + 0.5 * self.c[0]   # Last step is different\n",
    "    \n",
    "def relu(x):\n",
    "    return np.maximum(0, x)\n",
    "\n",
    "def inf_norm(real, approx):\n",
    "    norm = 0\n",
    "    for i in range(len(real)):\n",
    "        diff = abs(real[i] - approx[i])\n",
    "        if diff > norm:\n",
    "            norm = diff\n",
    "    return norm"
   ]
  },
  {
   "cell_type": "markdown",
   "id": "da8edcba",
   "metadata": {},
   "source": [
    "## Defining primitive functions"
   ]
  },
  {
   "cell_type": "markdown",
   "id": "28c263de",
   "metadata": {},
   "source": [
    "This set of functions can be trivially written as CKKS homomorphic operations"
   ]
  },
  {
   "cell_type": "code",
   "execution_count": 3,
   "id": "63cf8ff3",
   "metadata": {},
   "outputs": [],
   "source": [
    "def add(a, b):\n",
    "    \"\"\"\n",
    "    Adds two arrays element-wise.\n",
    "\n",
    "    Parameters:\n",
    "    a (array-like): First input array.\n",
    "    b (array-like): Second input array.\n",
    "\n",
    "    Returns:\n",
    "    numpy.ndarray: Element-wise sum of input arrays.\n",
    "    \"\"\"\n",
    "    return np.add(a, b)\n",
    "\n",
    "def add_many(values):\n",
    "    \"\"\"\n",
    "    Sums up multiple arrays contained in the values list.\n",
    "\n",
    "    Parameters:\n",
    "    values (list of array-like): List containing arrays to be summed.\n",
    "\n",
    "    Returns:\n",
    "    numpy.ndarray: Sum of all arrays in the values list.\n",
    "    \"\"\"\n",
    "    res = np.zeros(len(values[0]), dtype=int)\n",
    "    for value in values:\n",
    "        res = add(res, value)\n",
    "    return res\n",
    "\n",
    "def sub(a, b):\n",
    "    \"\"\"\n",
    "    Subtracts one array from another element-wise.\n",
    "\n",
    "    Parameters:\n",
    "    a (array-like): The array to be subtracted from.\n",
    "    b (array-like): The array to subtract.\n",
    "\n",
    "    Returns:\n",
    "    numpy.ndarray: Element-wise difference of the two input arrays.\n",
    "    \"\"\"\n",
    "    return np.add(a, -b)\n",
    "\n",
    "def mul(a, b):\n",
    "    \"\"\"\n",
    "    Multiplies two arrays element-wise.\n",
    "\n",
    "    Parameters:\n",
    "    a (array-like): First input array.\n",
    "    b (array-like): Second input array.\n",
    "\n",
    "    Returns:\n",
    "    numpy.ndarray: Element-wise product of input arrays.\n",
    "    \"\"\"\n",
    "    return np.multiply(a, b)\n",
    "\n",
    "def mask(a, index):\n",
    "    \"\"\"\n",
    "    Masks elements of array a at the specified index with 1 and multiplies with the array.\n",
    "\n",
    "    Parameters:\n",
    "    a (array-like): The input array.\n",
    "    index (int): Index to be masked.\n",
    "\n",
    "    Returns:\n",
    "    numpy.ndarray: Array with specified index masked with 1.\n",
    "    \"\"\"\n",
    "    mask_vector = np.zeros(len(a), dtype=int)\n",
    "    mask_vector[index] = 1\n",
    "    return mul(a, mask_vector)\n",
    "\n",
    "def rot(a, index):\n",
    "    \"\"\"\n",
    "    Rotates the array to the left by the specified number of positions.\n",
    "\n",
    "    Parameters:\n",
    "    a (array-like): The input array.\n",
    "    index (int): Number of positions to rotate the array to the left.\n",
    "\n",
    "    Returns:\n",
    "    numpy.ndarray: Array rotated to the left by the specified number of positions.\n",
    "    \"\"\"\n",
    "    return np.roll(a, -index)\n",
    "\n",
    "def f_min(a, b):\n",
    "    \"\"\"\n",
    "    Computes the element-wise minimum of two arrays.\n",
    "\n",
    "    Parameters:\n",
    "    a (array-like): First input array.\n",
    "    b (array-like): Second input array.\n",
    "\n",
    "    Returns:\n",
    "    numpy.ndarray: Element-wise minimum of the two input arrays.\n",
    "    \"\"\"\n",
    "    ans = []\n",
    "    for i in range(len(a)):\n",
    "        ans.append(min(a[i], b[i]))\n",
    "    return np.array(ans)\n",
    "\n",
    "\n",
    "def f_min_cheby(a, b):\n",
    "    \"\"\"\n",
    "    Computes the element-wise minimum of two arrays.\n",
    "\n",
    "    Parameters:\n",
    "    a (array-like): First input array.\n",
    "    b (array-like): Second input array.\n",
    "\n",
    "    Returns:\n",
    "    numpy.ndarray: Element-wise minimum of the two input arrays.\n",
    "    \"\"\"\n",
    "    return sub(a, np.vectorize(poly_relu_cheby.eval)(sub(a, b)))"
   ]
  },
  {
   "cell_type": "markdown",
   "id": "ced065c9",
   "metadata": {},
   "source": [
    "Now we define the _swap_ function that will heavily be used throughout the evaluation of the Sorting Network"
   ]
  },
  {
   "cell_type": "code",
   "execution_count": 4,
   "id": "d4225e14",
   "metadata": {},
   "outputs": [],
   "source": [
    "def swap_simd(a, delta, b = 0, l = 0, poly = True):    \n",
    "    \"\"\"\n",
    "    Computes a parallel evaluation of a Sorting Network\n",
    "\n",
    "    Parameters:\n",
    "    a (array-like): Input array\n",
    "    delta (int): The value of delta. In a sorting network, it specifies the \"length of the arrows\".\n",
    "    r (int): The current round of the sorting network\n",
    "    s (int): The current stage of the sorting network\n",
    "\n",
    "    Returns:\n",
    "    numpy.ndarray: Element-wise minimum of the two input arrays.\n",
    "    \"\"\"\n",
    "    rot_positive = rot(a, delta)\n",
    "    rot_negative = rot(a, -delta)\n",
    "    \n",
    "    # This is the evaluation of the non-linear function\n",
    "    \n",
    "    if poly:\n",
    "        f = f_min_cheby(a, rot_positive)\n",
    "    else:\n",
    "        f = f_min(a, rot_positive)\n",
    "            \n",
    "    m1 = f\n",
    "    m2 = sub(add(a, rot_negative), rot(f, -delta))\n",
    "    m3 = sub(add(a, rot_positive), f)\n",
    "    m4 = rot(f, -delta)\n",
    "    \n",
    "    masks = generate_masks(len(a), b, l)\n",
    "    \n",
    "    return add_many([mul(m1, masks[0]), \n",
    "                     mul(m2, masks[1]),\n",
    "                     mul(m3, masks[2]),\n",
    "                     mul(m4, masks[3])])"
   ]
  },
  {
   "cell_type": "code",
   "execution_count": 5,
   "id": "21543bcd",
   "metadata": {},
   "outputs": [],
   "source": [
    "def generate_masks(length, b, l):\n",
    "    \"\"\"\n",
    "    Da commentare\n",
    "    \"\"\"\n",
    "    mask_1 = []\n",
    "    mask_2 = []\n",
    "    mask_3 = []\n",
    "    mask_4 = []\n",
    "    \n",
    "    \n",
    "    while len(mask_1) < length:    \n",
    "        for _ in range(2 ** l):\n",
    "            for _ in range(2 ** (b - l)):\n",
    "                mask_1.append(1)\n",
    "                mask_2.append(0)\n",
    "                mask_3.append(0)\n",
    "                mask_4.append(0)\n",
    "\n",
    "            for _ in range(2 ** (b - l)):\n",
    "                mask_1.append(0)\n",
    "                mask_2.append(1)\n",
    "                mask_3.append(0)\n",
    "                mask_4.append(0)\n",
    "\n",
    "        if len(mask_1) + (2 ** b) >= length:\n",
    "            break\n",
    "            \n",
    "        for _ in range(2 ** l):\n",
    "            for _ in range(2 ** (b - l)):\n",
    "                mask_1.append(0)\n",
    "                mask_2.append(0)\n",
    "                mask_3.append(1)\n",
    "                mask_4.append(0)\n",
    "                \n",
    "            for _ in range(2 ** (b - l)):\n",
    "                mask_1.append(0)\n",
    "                mask_2.append(0)\n",
    "                mask_3.append(0)\n",
    "                mask_4.append(1)\n",
    "\n",
    "    \n",
    "    return [mask_1, mask_2, mask_3, mask_4]"
   ]
  },
  {
   "cell_type": "markdown",
   "id": "5eb3885b",
   "metadata": {},
   "source": [
    "### Evaluating a Network"
   ]
  },
  {
   "cell_type": "markdown",
   "id": "ebf6c864",
   "metadata": {},
   "source": [
    "## Sorting 16 elements"
   ]
  },
  {
   "cell_type": "code",
   "execution_count": 25,
   "id": "3cfe0ae5",
   "metadata": {},
   "outputs": [
    {
     "name": "stdout",
     "output_type": "stream",
     "text": [
      "[0.0625 0.1875 0.9375 0.375  0.25   0.875  0.8125 0.125  0.4375 0.5\n",
      " 0.6875 0.     0.625  0.3125 0.75   0.5625]\n"
     ]
    }
   ],
   "source": [
    "n = 16\n",
    "\n",
    "a = np.arange(n) / n\n",
    "np.random.shuffle(a)\n",
    "\n",
    "vec = np.copy(a)\n",
    "sorted_a = np.copy(a)\n",
    "sorted_a.sort()\n",
    "\n",
    "print(vec)"
   ]
  },
  {
   "cell_type": "code",
   "execution_count": 26,
   "id": "c71b534b",
   "metadata": {},
   "outputs": [
    {
     "name": "stdout",
     "output_type": "stream",
     "text": [
      "Infinity norm error: 0.006738609097199699\n"
     ]
    }
   ],
   "source": [
    "vec = np.copy(a)\n",
    "poly_relu_cheby = Chebyshev(-1, 1, 26, relu)\n",
    "\n",
    "for b in range(int(math.log2(n))):\n",
    "    for l in range(b + 1): \n",
    "        delta = 2 ** (b - l)\n",
    "        vec = swap_simd(vec, delta, b, l, poly = True) \n",
    "        \n",
    "#print(\"Before: {}\\nAfter: {}\".format(a, vec))\n",
    "print(\"Infinity norm error: {}\".format(inf_norm(sorted_a, vec)))"
   ]
  },
  {
   "cell_type": "code",
   "execution_count": 28,
   "id": "418a5719",
   "metadata": {},
   "outputs": [
    {
     "data": {
      "text/plain": [
       "[<matplotlib.lines.Line2D at 0x114f4d160>]"
      ]
     },
     "execution_count": 28,
     "metadata": {},
     "output_type": "execute_result"
    },
    {
     "data": {
      "image/png": "[encoded data removed]",
      "text/plain": [
       "<Figure size 640x480 with 1 Axes>"
      ]
     },
     "metadata": {},
     "output_type": "display_data"
    }
   ],
   "source": [
    "plt.plot(vec)\n",
    "plt.plot(sorted_a)"
   ]
  }
 ],
 "metadata": {
  "kernelspec": {
   "display_name": "Python 3 (ipykernel)",
   "language": "python",
   "name": "python3"
  },
  "language_info": {
   "codemirror_mode": {
    "name": "ipython",
    "version": 3
   },
   "file_extension": ".py",
   "mimetype": "text/x-python",
   "name": "python",
   "nbconvert_exporter": "python",
   "pygments_lexer": "ipython3",
   "version": "3.9.6"
  }
 },
 "nbformat": 4,
 "nbformat_minor": 5
}
