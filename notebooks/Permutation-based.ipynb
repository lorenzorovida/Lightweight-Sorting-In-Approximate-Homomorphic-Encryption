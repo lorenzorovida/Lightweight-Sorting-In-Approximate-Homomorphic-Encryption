{
 "cells": [
  {
   "cell_type": "markdown",
   "id": "ce1401b2",
   "metadata": {},
   "source": [
    "## Permutation-based sorting"
   ]
  },
  {
   "cell_type": "code",
   "execution_count": 13,
   "id": "9d740a10",
   "metadata": {},
   "outputs": [
    {
     "data": {
      "text/plain": [
       "4"
      ]
     },
     "execution_count": 13,
     "metadata": {},
     "output_type": "execute_result"
    }
   ],
   "source": [
    "n = 4"
   ]
  },
  {
   "cell_type": "code",
   "execution_count": 28,
   "id": "d133ef97",
   "metadata": {},
   "outputs": [
    {
     "data": {
      "text/plain": [
       "sgn (generic function with 1 method)"
      ]
     },
     "execution_count": 28,
     "metadata": {},
     "output_type": "execute_result"
    }
   ],
   "source": [
    "function sgn(x)\n",
    "    if x > 0 \n",
    "       return 1 \n",
    "    elseif x == 0\n",
    "        return 0.5\n",
    "    else\n",
    "        return 0\n",
    "    end\n",
    "end"
   ]
  },
  {
   "cell_type": "code",
   "execution_count": 29,
   "id": "330da6ab",
   "metadata": {},
   "outputs": [
    {
     "data": {
      "text/plain": [
       "rotsum (generic function with 1 method)"
      ]
     },
     "execution_count": 29,
     "metadata": {},
     "output_type": "execute_result"
    }
   ],
   "source": [
    "function rotsum(v, n)\n",
    "    new_v = v + circshift(v, -n)\n",
    "    max_shift = Int(floor(log2(n)))\n",
    "    \n",
    "    for i in 1:max_shift-1\n",
    "        shift_amt = n * 2^i\n",
    "        new_v = new_v + circshift(new_v, -shift_amt)\n",
    "    end\n",
    "    new_v\n",
    "end"
   ]
  },
  {
   "cell_type": "code",
   "execution_count": 30,
   "id": "8ca10806",
   "metadata": {},
   "outputs": [
    {
     "data": {
      "text/plain": [
       "4-element Vector{Int64}:\n",
       " 2\n",
       " 7\n",
       " 1\n",
       " 6"
      ]
     },
     "execution_count": 30,
     "metadata": {},
     "output_type": "execute_result"
    }
   ],
   "source": [
    "v = [2, 7, 1, 6]"
   ]
  },
  {
   "cell_type": "code",
   "execution_count": 31,
   "id": "ef731c4a",
   "metadata": {},
   "outputs": [
    {
     "data": {
      "text/plain": [
       "16-element Vector{Int64}:\n",
       " 2\n",
       " 7\n",
       " 1\n",
       " 6\n",
       " 2\n",
       " 7\n",
       " 1\n",
       " 6\n",
       " 2\n",
       " 7\n",
       " 1\n",
       " 6\n",
       " 2\n",
       " 7\n",
       " 1\n",
       " 6"
      ]
     },
     "execution_count": 31,
     "metadata": {},
     "output_type": "execute_result"
    }
   ],
   "source": [
    "v_repeated = repeat(v, n)"
   ]
  },
  {
   "cell_type": "code",
   "execution_count": 32,
   "id": "615c09bd",
   "metadata": {},
   "outputs": [
    {
     "data": {
      "text/plain": [
       "16-element Vector{Int64}:\n",
       " 2\n",
       " 2\n",
       " 2\n",
       " 2\n",
       " 7\n",
       " 7\n",
       " 7\n",
       " 7\n",
       " 1\n",
       " 1\n",
       " 1\n",
       " 1\n",
       " 6\n",
       " 6\n",
       " 6\n",
       " 6"
      ]
     },
     "execution_count": 32,
     "metadata": {},
     "output_type": "execute_result"
    }
   ],
   "source": [
    "v_expanded = repeat(v, inner=(n,))"
   ]
  },
  {
   "cell_type": "code",
   "execution_count": 33,
   "id": "34c40fed",
   "metadata": {},
   "outputs": [
    {
     "data": {
      "text/plain": [
       "16-element Vector{Int64}:\n",
       "  0\n",
       " -5\n",
       "  1\n",
       " -4\n",
       "  5\n",
       "  0\n",
       "  6\n",
       "  1\n",
       " -1\n",
       " -6\n",
       "  0\n",
       " -5\n",
       "  4\n",
       " -1\n",
       "  5\n",
       "  0"
      ]
     },
     "execution_count": 33,
     "metadata": {},
     "output_type": "execute_result"
    }
   ],
   "source": [
    "delta = v_expanded - v_repeated "
   ]
  },
  {
   "cell_type": "code",
   "execution_count": 34,
   "id": "ce6eacb8",
   "metadata": {},
   "outputs": [
    {
     "data": {
      "text/plain": [
       "16-element Vector{Real}:\n",
       " 0.5\n",
       " 0\n",
       " 1\n",
       " 0\n",
       " 1\n",
       " 0.5\n",
       " 1\n",
       " 1\n",
       " 0\n",
       " 0\n",
       " 0.5\n",
       " 0\n",
       " 1\n",
       " 0\n",
       " 1\n",
       " 0.5"
      ]
     },
     "execution_count": 34,
     "metadata": {},
     "output_type": "execute_result"
    }
   ],
   "source": [
    "sgn_delta = sgn.(delta)"
   ]
  },
  {
   "cell_type": "code",
   "execution_count": 35,
   "id": "522c57f5",
   "metadata": {},
   "outputs": [
    {
     "data": {
      "text/plain": [
       "16-element Vector{Float64}:\n",
       " 2.5\n",
       " 0.5\n",
       " 3.5\n",
       " 1.5\n",
       " 2.5\n",
       " 0.5\n",
       " 3.5\n",
       " 1.5\n",
       " 2.5\n",
       " 0.5\n",
       " 3.5\n",
       " 1.5\n",
       " 2.5\n",
       " 0.5\n",
       " 3.5\n",
       " 1.5"
      ]
     },
     "execution_count": 35,
     "metadata": {},
     "output_type": "execute_result"
    }
   ],
   "source": [
    "s = rotsum(sgn_delta, n)"
   ]
  },
  {
   "cell_type": "code",
   "execution_count": 36,
   "id": "bd191a4f",
   "metadata": {},
   "outputs": [
    {
     "data": {
      "text/plain": [
       "16-element Vector{Float64}:\n",
       " 3.0\n",
       " 1.0\n",
       " 4.0\n",
       " 2.0\n",
       " 3.0\n",
       " 1.0\n",
       " 4.0\n",
       " 2.0\n",
       " 3.0\n",
       " 1.0\n",
       " 4.0\n",
       " 2.0\n",
       " 3.0\n",
       " 1.0\n",
       " 4.0\n",
       " 2.0"
      ]
     },
     "execution_count": 36,
     "metadata": {},
     "output_type": "execute_result"
    }
   ],
   "source": [
    "s = s .+ 0.5"
   ]
  },
  {
   "cell_type": "code",
   "execution_count": 37,
   "id": "291a9b98",
   "metadata": {},
   "outputs": [
    {
     "data": {
      "text/plain": [
       "16-element Vector{Int64}:\n",
       " 1\n",
       " 1\n",
       " 1\n",
       " 1\n",
       " 2\n",
       " 2\n",
       " 2\n",
       " 2\n",
       " 3\n",
       " 3\n",
       " 3\n",
       " 3\n",
       " 4\n",
       " 4\n",
       " 4\n",
       " 4"
      ]
     },
     "execution_count": 37,
     "metadata": {},
     "output_type": "execute_result"
    }
   ],
   "source": [
    "units = repeat([1,2,3,4], inner=(n,))"
   ]
  },
  {
   "cell_type": "code",
   "execution_count": 38,
   "id": "19c8dd85",
   "metadata": {},
   "outputs": [
    {
     "data": {
      "text/plain": [
       "16-element Vector{Float64}:\n",
       " -2.0\n",
       "  0.0\n",
       " -3.0\n",
       " -1.0\n",
       " -1.0\n",
       "  1.0\n",
       " -2.0\n",
       "  0.0\n",
       "  0.0\n",
       "  2.0\n",
       " -1.0\n",
       "  1.0\n",
       "  1.0\n",
       "  3.0\n",
       "  0.0\n",
       "  2.0"
      ]
     },
     "execution_count": 38,
     "metadata": {},
     "output_type": "execute_result"
    }
   ],
   "source": [
    "units - s"
   ]
  },
  {
   "cell_type": "code",
   "execution_count": 39,
   "id": "8f5c3d86",
   "metadata": {},
   "outputs": [
    {
     "data": {
      "text/plain": [
       "16-element Vector{Float64}:\n",
       " 0.0\n",
       " 1.0\n",
       " 0.0\n",
       " 0.0\n",
       " 0.0\n",
       " 0.0\n",
       " 0.0\n",
       " 1.0\n",
       " 1.0\n",
       " 0.0\n",
       " 0.0\n",
       " 0.0\n",
       " 0.0\n",
       " 0.0\n",
       " 1.0\n",
       " 0.0"
      ]
     },
     "execution_count": 39,
     "metadata": {},
     "output_type": "execute_result"
    }
   ],
   "source": [
    "columns = sinc.(units - s)"
   ]
  },
  {
   "cell_type": "code",
   "execution_count": 40,
   "id": "a945b21b",
   "metadata": {},
   "outputs": [
    {
     "data": {
      "text/plain": [
       "4×4 Matrix{Float64}:\n",
       " 0.0  0.0  1.0  0.0\n",
       " 1.0  0.0  0.0  0.0\n",
       " 0.0  0.0  0.0  1.0\n",
       " 0.0  1.0  0.0  0.0"
      ]
     },
     "execution_count": 40,
     "metadata": {},
     "output_type": "execute_result"
    }
   ],
   "source": [
    "P = reshape(columns, n, n)"
   ]
  },
  {
   "cell_type": "code",
   "execution_count": 41,
   "id": "3b6fb2cd",
   "metadata": {},
   "outputs": [
    {
     "data": {
      "text/plain": [
       "4-element Vector{Float64}:\n",
       " 1.0\n",
       " 2.0\n",
       " 6.0\n",
       " 7.0"
      ]
     },
     "execution_count": 41,
     "metadata": {},
     "output_type": "execute_result"
    }
   ],
   "source": [
    "P * v"
   ]
  }
 ],
 "metadata": {
  "kernelspec": {
   "display_name": "Julia 1.10.4",
   "language": "julia",
   "name": "julia-1.10"
  },
  "language_info": {
   "file_extension": ".jl",
   "mimetype": "application/julia",
   "name": "julia",
   "version": "1.10.4"
  }
 },
 "nbformat": 4,
 "nbformat_minor": 5
}
